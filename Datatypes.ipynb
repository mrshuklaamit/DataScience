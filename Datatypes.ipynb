{
 "cells": [
  {
   "cell_type": "markdown",
   "id": "95eeb041",
   "metadata": {},
   "source": [
    "# 1.find out the datatype of the given variable A = 4"
   ]
  },
  {
   "cell_type": "code",
   "execution_count": null,
   "id": "3894eb28",
   "metadata": {},
   "outputs": [],
   "source": []
  },
  {
   "cell_type": "markdown",
   "id": "c309ce46",
   "metadata": {},
   "source": [
    "# 2. print the datatype of given variable and convert its datatype into float and int A  = \"5678\""
   ]
  },
  {
   "cell_type": "code",
   "execution_count": null,
   "id": "af2699dc",
   "metadata": {},
   "outputs": [],
   "source": []
  },
  {
   "cell_type": "markdown",
   "id": "df158c40",
   "metadata": {},
   "source": [
    "# 3. Create an empty List"
   ]
  },
  {
   "cell_type": "code",
   "execution_count": null,
   "id": "c2829751",
   "metadata": {},
   "outputs": [],
   "source": []
  },
  {
   "cell_type": "markdown",
   "id": "82873ef1",
   "metadata": {},
   "source": [
    "# 4. create a list with items of datatypes (int,float ans string)"
   ]
  },
  {
   "cell_type": "code",
   "execution_count": null,
   "id": "2a139bd9",
   "metadata": {},
   "outputs": [],
   "source": []
  },
  {
   "cell_type": "markdown",
   "id": "1ede7ce3",
   "metadata": {},
   "source": [
    "# 5. create 3 variables and assign the values for that variables using commas( , )"
   ]
  },
  {
   "cell_type": "code",
   "execution_count": null,
   "id": "bccad7e2",
   "metadata": {},
   "outputs": [],
   "source": []
  }
 ],
 "metadata": {
  "kernelspec": {
   "display_name": "Python 3",
   "language": "python",
   "name": "python3"
  },
  "language_info": {
   "codemirror_mode": {
    "name": "ipython",
    "version": 3
   },
   "file_extension": ".py",
   "mimetype": "text/x-python",
   "name": "python",
   "nbconvert_exporter": "python",
   "pygments_lexer": "ipython3",
   "version": "3.8.8"
  }
 },
 "nbformat": 4,
 "nbformat_minor": 5
}
